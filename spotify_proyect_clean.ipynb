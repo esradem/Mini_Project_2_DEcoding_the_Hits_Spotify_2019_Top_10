{
 "cells": [
  {
   "cell_type": "code",
   "execution_count": 24,
   "id": "90edbd18-70de-4a99-8ecd-e459d819cf3f",
   "metadata": {},
   "outputs": [],
   "source": [
    "import pandas as pd\n",
    "import numpy as np\n",
    "import re\n",
    "import matplotlib.pyplot as plt "
   ]
  },
  {
   "cell_type": "code",
   "execution_count": 26,
   "id": "453bb79d-d51f-42de-b720-16a828b61e38",
   "metadata": {},
   "outputs": [],
   "source": [
    "%matplotlib inline"
   ]
  },
  {
   "cell_type": "code",
   "execution_count": 28,
   "id": "32758385-2153-4b74-a791-eb2671a5fc44",
   "metadata": {},
   "outputs": [],
   "source": [
    "# Load dataset\n",
    "df = pd.read_csv('top50.csv', encoding='utf-8')\n",
    "# Save in UTF-8\n",
    "df.to_csv('top50.csv', index=False, encoding='utf-8')"
   ]
  },
  {
   "cell_type": "code",
   "execution_count": 30,
   "id": "c3565c9f-8910-4628-ba66-af54579930d3",
   "metadata": {},
   "outputs": [
    {
     "data": {
      "text/html": [
       "<div>\n",
       "<style scoped>\n",
       "    .dataframe tbody tr th:only-of-type {\n",
       "        vertical-align: middle;\n",
       "    }\n",
       "\n",
       "    .dataframe tbody tr th {\n",
       "        vertical-align: top;\n",
       "    }\n",
       "\n",
       "    .dataframe thead th {\n",
       "        text-align: right;\n",
       "    }\n",
       "</style>\n",
       "<table border=\"1\" class=\"dataframe\">\n",
       "  <thead>\n",
       "    <tr style=\"text-align: right;\">\n",
       "      <th></th>\n",
       "      <th>id</th>\n",
       "      <th>track_name</th>\n",
       "      <th>artist_name</th>\n",
       "      <th>genre</th>\n",
       "      <th>bpm</th>\n",
       "      <th>energy</th>\n",
       "      <th>danceability</th>\n",
       "      <th>loudness_db</th>\n",
       "      <th>liveness</th>\n",
       "      <th>valence</th>\n",
       "      <th>length</th>\n",
       "      <th>acousticness</th>\n",
       "      <th>speechiness</th>\n",
       "      <th>popularity</th>\n",
       "    </tr>\n",
       "  </thead>\n",
       "  <tbody>\n",
       "    <tr>\n",
       "      <th>0</th>\n",
       "      <td>1</td>\n",
       "      <td>SeÃ±orita</td>\n",
       "      <td>Shawn Mendes</td>\n",
       "      <td>canadian pop</td>\n",
       "      <td>117</td>\n",
       "      <td>55</td>\n",
       "      <td>76</td>\n",
       "      <td>-6</td>\n",
       "      <td>8</td>\n",
       "      <td>75</td>\n",
       "      <td>191</td>\n",
       "      <td>4</td>\n",
       "      <td>3</td>\n",
       "      <td>79</td>\n",
       "    </tr>\n",
       "    <tr>\n",
       "      <th>1</th>\n",
       "      <td>2</td>\n",
       "      <td>China</td>\n",
       "      <td>Anuel AA</td>\n",
       "      <td>reggaeton flow</td>\n",
       "      <td>105</td>\n",
       "      <td>81</td>\n",
       "      <td>79</td>\n",
       "      <td>-4</td>\n",
       "      <td>8</td>\n",
       "      <td>61</td>\n",
       "      <td>302</td>\n",
       "      <td>8</td>\n",
       "      <td>9</td>\n",
       "      <td>92</td>\n",
       "    </tr>\n",
       "    <tr>\n",
       "      <th>2</th>\n",
       "      <td>3</td>\n",
       "      <td>boyfriend (with Social House)</td>\n",
       "      <td>Ariana Grande</td>\n",
       "      <td>dance pop</td>\n",
       "      <td>190</td>\n",
       "      <td>80</td>\n",
       "      <td>40</td>\n",
       "      <td>-4</td>\n",
       "      <td>16</td>\n",
       "      <td>70</td>\n",
       "      <td>186</td>\n",
       "      <td>12</td>\n",
       "      <td>46</td>\n",
       "      <td>85</td>\n",
       "    </tr>\n",
       "    <tr>\n",
       "      <th>3</th>\n",
       "      <td>4</td>\n",
       "      <td>Beautiful People (feat. Khalid)</td>\n",
       "      <td>Ed Sheeran</td>\n",
       "      <td>pop</td>\n",
       "      <td>93</td>\n",
       "      <td>65</td>\n",
       "      <td>64</td>\n",
       "      <td>-8</td>\n",
       "      <td>8</td>\n",
       "      <td>55</td>\n",
       "      <td>198</td>\n",
       "      <td>12</td>\n",
       "      <td>19</td>\n",
       "      <td>86</td>\n",
       "    </tr>\n",
       "    <tr>\n",
       "      <th>4</th>\n",
       "      <td>5</td>\n",
       "      <td>Goodbyes (Feat. Young Thug)</td>\n",
       "      <td>Post Malone</td>\n",
       "      <td>dfw rap</td>\n",
       "      <td>150</td>\n",
       "      <td>65</td>\n",
       "      <td>58</td>\n",
       "      <td>-4</td>\n",
       "      <td>11</td>\n",
       "      <td>18</td>\n",
       "      <td>175</td>\n",
       "      <td>45</td>\n",
       "      <td>7</td>\n",
       "      <td>94</td>\n",
       "    </tr>\n",
       "  </tbody>\n",
       "</table>\n",
       "</div>"
      ],
      "text/plain": [
       "   id                       track_name    artist_name           genre  bpm  \\\n",
       "0   1                        SeÃ±orita   Shawn Mendes    canadian pop  117   \n",
       "1   2                            China       Anuel AA  reggaeton flow  105   \n",
       "2   3    boyfriend (with Social House)  Ariana Grande       dance pop  190   \n",
       "3   4  Beautiful People (feat. Khalid)     Ed Sheeran             pop   93   \n",
       "4   5      Goodbyes (Feat. Young Thug)    Post Malone         dfw rap  150   \n",
       "\n",
       "   energy  danceability  loudness_db  liveness  valence  length  acousticness  \\\n",
       "0      55            76           -6         8       75     191             4   \n",
       "1      81            79           -4         8       61     302             8   \n",
       "2      80            40           -4        16       70     186            12   \n",
       "3      65            64           -8         8       55     198            12   \n",
       "4      65            58           -4        11       18     175            45   \n",
       "\n",
       "   speechiness  popularity  \n",
       "0            3          79  \n",
       "1            9          92  \n",
       "2           46          85  \n",
       "3           19          86  \n",
       "4            7          94  "
      ]
     },
     "execution_count": 30,
     "metadata": {},
     "output_type": "execute_result"
    }
   ],
   "source": [
    "df.head()"
   ]
  },
  {
   "cell_type": "markdown",
   "id": "f3b62692-535c-441d-a6dc-cc738fd3b980",
   "metadata": {},
   "source": [
    "# datatypes"
   ]
  },
  {
   "cell_type": "code",
   "execution_count": 33,
   "id": "b43c2699-4c7f-4f6c-9101-d22e2b57a8c8",
   "metadata": {},
   "outputs": [
    {
     "data": {
      "text/plain": [
       "id               int64\n",
       "track_name      object\n",
       "artist_name     object\n",
       "genre           object\n",
       "bpm              int64\n",
       "energy           int64\n",
       "danceability     int64\n",
       "loudness_db      int64\n",
       "liveness         int64\n",
       "valence          int64\n",
       "length           int64\n",
       "acousticness     int64\n",
       "speechiness      int64\n",
       "popularity       int64\n",
       "dtype: object"
      ]
     },
     "execution_count": 33,
     "metadata": {},
     "output_type": "execute_result"
    }
   ],
   "source": [
    "df.dtypes"
   ]
  },
  {
   "cell_type": "code",
   "execution_count": 35,
   "id": "8d9976d7-a074-47b5-a805-c604c4884481",
   "metadata": {},
   "outputs": [],
   "source": [
    "df['loudness_db'] = df['loudness_db'].astype(float)\n"
   ]
  },
  {
   "cell_type": "code",
   "execution_count": 37,
   "id": "49ab9356-ed97-4fb5-8c7d-9b410638090c",
   "metadata": {},
   "outputs": [
    {
     "data": {
      "text/plain": [
       "Index(['id', 'track_name', 'artist_name', 'genre', 'bpm', 'energy',\n",
       "       'danceability', 'loudness_db', 'liveness', 'valence', 'length',\n",
       "       'acousticness', 'speechiness', 'popularity'],\n",
       "      dtype='object')"
      ]
     },
     "execution_count": 37,
     "metadata": {},
     "output_type": "execute_result"
    }
   ],
   "source": [
    "# Rename columns to snake_case for clarity and consistency\n",
    "df.columns = [\n",
    "    \"id\", \"track_name\", \"artist_name\", \"genre\", \"bpm\", \"energy\",\n",
    "    \"danceability\", \"loudness_db\", \"liveness\", \"valence\", \"length\",\n",
    "    \"acousticness\", \"speechiness\", \"popularity\"\n",
    "]\n",
    "\n",
    "df.columns"
   ]
  },
  {
   "cell_type": "code",
   "execution_count": 39,
   "id": "2b537abb-5836-4899-a3e9-62bc2c7cd4e6",
   "metadata": {},
   "outputs": [],
   "source": [
    "# Standardize genre names (lowercase and strip spaces)\n",
    "df['genre'] = df['genre'].str.lower().str.strip()\n",
    "\n",
    "# Replace sub-genres with broader categories\n",
    "df['genre'] = df['genre'].replace({\n",
    "    'reggaeton flow': 'reggaeton',\n",
    "    'reggaeton': 'latin',\n",
    "    'panamanian pop': 'pop',\n",
    "    'canadian pop': 'pop',\n",
    "    'dance pop': 'pop',\n",
    "    'pop house': 'pop',\n",
    "    'australian pop': 'pop',\n",
    "    'electropop': 'pop',\n",
    "    'canadian hip hop': 'hip hop',\n",
    "    'atl hip hop': 'hip hop',\n",
    "    'dfw rap': 'rap',\n",
    "    'trap music': 'rap',\n",
    "    'country rap': 'rap',\n",
    "    'big room': 'edm',\n",
    "    'r&b en espanol': 'r&b'\n",
    "})\n"
   ]
  },
  {
   "cell_type": "code",
   "execution_count": 41,
   "id": "dc6f56dc-781c-4afb-b124-777a1f7ccddc",
   "metadata": {},
   "outputs": [
    {
     "data": {
      "text/plain": [
       "array(['pop', 'reggaeton', 'rap', 'latin', 'hip hop', 'escape room',\n",
       "       'edm', 'boy band', 'r&b', 'brostep'], dtype=object)"
      ]
     },
     "execution_count": 41,
     "metadata": {},
     "output_type": "execute_result"
    }
   ],
   "source": [
    "# Check for nulls\n",
    "df.isnull().sum()\n",
    "\n",
    "# Check for duplicates\n",
    "df.duplicated().sum()\n",
    "\n",
    "# View unique genres after cleaning\n",
    "df['genre'].unique()"
   ]
  },
  {
   "cell_type": "code",
   "execution_count": 43,
   "id": "bf2430a9-06c8-46ea-9361-a391d807fbad",
   "metadata": {},
   "outputs": [
    {
     "data": {
      "text/plain": [
       "array(['Shawn Mendes', 'Anuel AA', 'Ariana Grande', 'Ed Sheeran',\n",
       "       'Post Malone', 'Lil Tecca', 'Sam Smith', 'Lil Nas X',\n",
       "       'Billie Eilish', 'Bad Bunny', 'DJ Snake', 'Lewis Capaldi', 'Sech',\n",
       "       'Drake', 'Chris Brown', 'J Balvin', 'Y2K', 'Lizzo', 'MEDUZA',\n",
       "       'Jhay Cortez', 'Lunay', 'Tones and I', 'Ali Gatie', 'Daddy Yankee',\n",
       "       'The Chainsmokers', 'Maluma', 'Young Thug', 'Katy Perry',\n",
       "       'Martin Garrix', 'Jonas Brothers', 'Lauv', 'Kygo', 'Taylor Swift',\n",
       "       'Lady Gaga', 'Khalid', 'ROSALÃ\\x8dA', 'Marshmello', 'Nicky Jam'],\n",
       "      dtype=object)"
      ]
     },
     "execution_count": 43,
     "metadata": {},
     "output_type": "execute_result"
    }
   ],
   "source": [
    "df['artist_name'] = df['artist_name'].str.strip()\n",
    "df['artist_name'].unique()"
   ]
  },
  {
   "cell_type": "markdown",
   "id": "194fa7e8-dccc-4cd6-92e7-013a926a6bc8",
   "metadata": {},
   "source": [
    "#DATA CLEANING"
   ]
  },
  {
   "cell_type": "code",
   "execution_count": 46,
   "id": "2f17e3a8-6362-4737-a372-7602b6f95532",
   "metadata": {},
   "outputs": [],
   "source": [
    "\n",
    "df['artist_name'] = (\n",
    "    df['artist_name']\n",
    "    .str.replace(r'[Ã√]', ' ', regex=True)         \n",
    "    .str.replace(r'\\s+', ' ', regex=True)          \n",
    "    .str.strip()                                   \n",
    ")\n"
   ]
  },
  {
   "cell_type": "code",
   "execution_count": 48,
   "id": "b86dad92-ffdb-4beb-9b79-aa2ca051da2f",
   "metadata": {},
   "outputs": [],
   "source": [
    "# Clean weird characters from track_name (replace with space)\n",
    "df['track_name'] = df['track_name'].str.replace(r'[^\\x00-\\x7F]+', ' ', regex=True)"
   ]
  },
  {
   "cell_type": "code",
   "execution_count": 50,
   "id": "5b9b81e6-0279-4120-9e3c-12fd39fd3754",
   "metadata": {},
   "outputs": [
    {
     "data": {
      "text/html": [
       "<div>\n",
       "<style scoped>\n",
       "    .dataframe tbody tr th:only-of-type {\n",
       "        vertical-align: middle;\n",
       "    }\n",
       "\n",
       "    .dataframe tbody tr th {\n",
       "        vertical-align: top;\n",
       "    }\n",
       "\n",
       "    .dataframe thead th {\n",
       "        text-align: right;\n",
       "    }\n",
       "</style>\n",
       "<table border=\"1\" class=\"dataframe\">\n",
       "  <thead>\n",
       "    <tr style=\"text-align: right;\">\n",
       "      <th></th>\n",
       "      <th>track_name</th>\n",
       "      <th>genre</th>\n",
       "      <th>valence</th>\n",
       "      <th>bpm</th>\n",
       "    </tr>\n",
       "  </thead>\n",
       "  <tbody>\n",
       "    <tr>\n",
       "      <th>38</th>\n",
       "      <td>Sucker</td>\n",
       "      <td>boy band</td>\n",
       "      <td>95</td>\n",
       "      <td>138</td>\n",
       "    </tr>\n",
       "    <tr>\n",
       "      <th>29</th>\n",
       "      <td>QUE PRETENDES</td>\n",
       "      <td>latin</td>\n",
       "      <td>94</td>\n",
       "      <td>93</td>\n",
       "    </tr>\n",
       "    <tr>\n",
       "      <th>37</th>\n",
       "      <td>Antisocial (with Travis Scott)</td>\n",
       "      <td>pop</td>\n",
       "      <td>91</td>\n",
       "      <td>152</td>\n",
       "    </tr>\n",
       "    <tr>\n",
       "      <th>17</th>\n",
       "      <td>Sunflower - Spider-Man: Into the Spider-Verse</td>\n",
       "      <td>rap</td>\n",
       "      <td>91</td>\n",
       "      <td>90</td>\n",
       "    </tr>\n",
       "    <tr>\n",
       "      <th>25</th>\n",
       "      <td>If I Can't Have You</td>\n",
       "      <td>pop</td>\n",
       "      <td>87</td>\n",
       "      <td>124</td>\n",
       "    </tr>\n",
       "    <tr>\n",
       "      <th>5</th>\n",
       "      <td>I Don't Care (with Justin Bieber)</td>\n",
       "      <td>pop</td>\n",
       "      <td>84</td>\n",
       "      <td>102</td>\n",
       "    </tr>\n",
       "    <tr>\n",
       "      <th>46</th>\n",
       "      <td>Te Robar</td>\n",
       "      <td>latin</td>\n",
       "      <td>80</td>\n",
       "      <td>176</td>\n",
       "    </tr>\n",
       "    <tr>\n",
       "      <th>23</th>\n",
       "      <td>Soltera - Remix</td>\n",
       "      <td>latin</td>\n",
       "      <td>80</td>\n",
       "      <td>92</td>\n",
       "    </tr>\n",
       "    <tr>\n",
       "      <th>13</th>\n",
       "      <td>Otro Trago - Remix</td>\n",
       "      <td>pop</td>\n",
       "      <td>76</td>\n",
       "      <td>176</td>\n",
       "    </tr>\n",
       "    <tr>\n",
       "      <th>44</th>\n",
       "      <td>Con Altura</td>\n",
       "      <td>r&amp;b</td>\n",
       "      <td>75</td>\n",
       "      <td>98</td>\n",
       "    </tr>\n",
       "  </tbody>\n",
       "</table>\n",
       "</div>"
      ],
      "text/plain": [
       "                                       track_name     genre  valence  bpm\n",
       "38                                         Sucker  boy band       95  138\n",
       "29                                  QUE PRETENDES     latin       94   93\n",
       "37                 Antisocial (with Travis Scott)       pop       91  152\n",
       "17  Sunflower - Spider-Man: Into the Spider-Verse       rap       91   90\n",
       "25                            If I Can't Have You       pop       87  124\n",
       "5               I Don't Care (with Justin Bieber)       pop       84  102\n",
       "46                                      Te Robar      latin       80  176\n",
       "23                                Soltera - Remix     latin       80   92\n",
       "13                             Otro Trago - Remix       pop       76  176\n",
       "44                                     Con Altura       r&b       75   98"
      ]
     },
     "metadata": {},
     "output_type": "display_data"
    }
   ],
   "source": [
    "# Top 10 happiest songs by valence\n",
    "# Valence measures how positive a song sounds\n",
    "valence_songs = df.sort_values(by='valence', ascending=False)\n",
    "display(valence_songs[['track_name', 'genre', 'valence', 'bpm']].head(10))"
   ]
  },
  {
   "cell_type": "code",
   "execution_count": 130,
   "id": "8f73a850-14d3-48b8-b4ee-7093a86fa394",
   "metadata": {},
   "outputs": [
    {
     "data": {
      "image/png": "[encoded data removed]",
      "text/plain": [
       "<Figure size 1500x600 with 1 Axes>"
      ]
     },
     "metadata": {},
     "output_type": "display_data"
    }
   ],
   "source": [
    "top_10_valence_songs = valence_songs[['track_name', 'valence']].head(10)\n",
    "\n",
    "# Plotting\n",
    "plt.figure(figsize=(15, 6))\n",
    "plt.barh(top_10_valence_songs['track_name'], top_10_valence_songs['valence'], color='#4E4CED')\n",
    "plt.xlabel('Valence Score')\n",
    "plt.title('Top 10 Happiest Songs by Valence')\n",
    "plt.gca().invert_yaxis()  # Since it's a horizontal bar chart\n",
    "\n",
    "# Displaying the plot\n",
    "plt.savefig(\"chards/happiest_songs_by_valence.png\", transparent=True, format=\"png\")\n",
    "plt.show()"
   ]
  },
  {
   "cell_type": "code",
   "execution_count": 92,
   "id": "660030b2-7d11-46e9-9598-fcc2f4b6b36e",
   "metadata": {},
   "outputs": [
    {
     "data": {
      "text/plain": [
       "id                int64\n",
       "track_name       object\n",
       "artist_name      object\n",
       "genre            object\n",
       "bpm               int64\n",
       "energy            int64\n",
       "danceability      int64\n",
       "loudness_db     float64\n",
       "liveness          int64\n",
       "valence           int64\n",
       "length            int64\n",
       "acousticness      int64\n",
       "speechiness       int64\n",
       "popularity        int64\n",
       "dtype: object"
      ]
     },
     "execution_count": 92,
     "metadata": {},
     "output_type": "execute_result"
    }
   ],
   "source": [
    "df.dtypes"
   ]
  },
  {
   "cell_type": "code",
   "execution_count": 94,
   "id": "1491b939-9eb8-4b25-8491-779951750f38",
   "metadata": {},
   "outputs": [],
   "source": [
    "# Most high-valence songs are pop and latin genres.\n",
    "# These tracks sound happier, with valence > 75 and varied BPMs.\n",
    "# Supports the hypothesis that pop/latin fit party/workout vibes."
   ]
  },
  {
   "cell_type": "code",
   "execution_count": 54,
   "id": "af17da63-fdf3-450b-88b8-891f9bd12f89",
   "metadata": {},
   "outputs": [
    {
     "data": {
      "text/html": [
       "<div>\n",
       "<style scoped>\n",
       "    .dataframe tbody tr th:only-of-type {\n",
       "        vertical-align: middle;\n",
       "    }\n",
       "\n",
       "    .dataframe tbody tr th {\n",
       "        vertical-align: top;\n",
       "    }\n",
       "\n",
       "    .dataframe thead th {\n",
       "        text-align: right;\n",
       "    }\n",
       "</style>\n",
       "<table border=\"1\" class=\"dataframe\">\n",
       "  <thead>\n",
       "    <tr style=\"text-align: right;\">\n",
       "      <th></th>\n",
       "      <th>track_name</th>\n",
       "      <th>genre</th>\n",
       "      <th>valence</th>\n",
       "      <th>bpm</th>\n",
       "    </tr>\n",
       "  </thead>\n",
       "  <tbody>\n",
       "    <tr>\n",
       "      <th>2</th>\n",
       "      <td>boyfriend (with Social House)</td>\n",
       "      <td>pop</td>\n",
       "      <td>70</td>\n",
       "      <td>190</td>\n",
       "    </tr>\n",
       "    <tr>\n",
       "      <th>6</th>\n",
       "      <td>Ransom</td>\n",
       "      <td>rap</td>\n",
       "      <td>23</td>\n",
       "      <td>180</td>\n",
       "    </tr>\n",
       "    <tr>\n",
       "      <th>10</th>\n",
       "      <td>Callaita</td>\n",
       "      <td>latin</td>\n",
       "      <td>24</td>\n",
       "      <td>176</td>\n",
       "    </tr>\n",
       "    <tr>\n",
       "      <th>36</th>\n",
       "      <td>Otro Trago</td>\n",
       "      <td>pop</td>\n",
       "      <td>62</td>\n",
       "      <td>176</td>\n",
       "    </tr>\n",
       "    <tr>\n",
       "      <th>46</th>\n",
       "      <td>Te Robar</td>\n",
       "      <td>latin</td>\n",
       "      <td>80</td>\n",
       "      <td>176</td>\n",
       "    </tr>\n",
       "    <tr>\n",
       "      <th>16</th>\n",
       "      <td>LA CANCI N</td>\n",
       "      <td>latin</td>\n",
       "      <td>43</td>\n",
       "      <td>176</td>\n",
       "    </tr>\n",
       "    <tr>\n",
       "      <th>13</th>\n",
       "      <td>Otro Trago - Remix</td>\n",
       "      <td>pop</td>\n",
       "      <td>76</td>\n",
       "      <td>176</td>\n",
       "    </tr>\n",
       "    <tr>\n",
       "      <th>19</th>\n",
       "      <td>Truth Hurts</td>\n",
       "      <td>escape room</td>\n",
       "      <td>41</td>\n",
       "      <td>158</td>\n",
       "    </tr>\n",
       "    <tr>\n",
       "      <th>21</th>\n",
       "      <td>Panini</td>\n",
       "      <td>rap</td>\n",
       "      <td>48</td>\n",
       "      <td>154</td>\n",
       "    </tr>\n",
       "    <tr>\n",
       "      <th>37</th>\n",
       "      <td>Antisocial (with Travis Scott)</td>\n",
       "      <td>pop</td>\n",
       "      <td>91</td>\n",
       "      <td>152</td>\n",
       "    </tr>\n",
       "  </tbody>\n",
       "</table>\n",
       "</div>"
      ],
      "text/plain": [
       "                        track_name        genre  valence  bpm\n",
       "2    boyfriend (with Social House)          pop       70  190\n",
       "6                           Ransom          rap       23  180\n",
       "10                        Callaita        latin       24  176\n",
       "36                      Otro Trago          pop       62  176\n",
       "46                       Te Robar         latin       80  176\n",
       "16                      LA CANCI N        latin       43  176\n",
       "13              Otro Trago - Remix          pop       76  176\n",
       "19                     Truth Hurts  escape room       41  158\n",
       "21                          Panini          rap       48  154\n",
       "37  Antisocial (with Travis Scott)          pop       91  152"
      ]
     },
     "metadata": {},
     "output_type": "display_data"
    }
   ],
   "source": [
    "# Top 10 fastest songs by BPM (energy indicator)\n",
    "bpm_songs = df.sort_values(by='bpm', ascending=False)\n",
    "display(bpm_songs[['track_name', 'genre', 'valence', 'bpm']].head(10))  # Show top 10"
   ]
  },
  {
   "cell_type": "code",
   "execution_count": 56,
   "id": "7cf5702a-f145-4edd-951e-d4b8e7a3ac71",
   "metadata": {},
   "outputs": [
    {
     "data": {
      "image/png": "[encoded data removed]",
      "text/plain": [
       "<Figure size 1000x700 with 1 Axes>"
      ]
     },
     "metadata": {},
     "output_type": "display_data"
    }
   ],
   "source": [
    "\n",
    "bpm_songs = df.sort_values(by='bpm', ascending=False)[['genre', 'valence', 'bpm']].head(10)\n",
    "\n",
    "# Plotting\n",
    "plt.figure(figsize=(10, 7))\n",
    "plt.barh(bpm_songs['genre'], bpm_songs['bpm'], color='#C62922')\n",
    "plt.xlabel('Bpm')\n",
    "plt.title('Top 10 Highest Tempo Songs by Genre and tempo')\n",
    "plt.gca().invert_yaxis() \n",
    "\n",
    "# Displaying the plot\n",
    "plt.savefig(\"highest10_tempo_by_genre_tempo.png\", transparent=True, format=\"png\")\n",
    "plt.show()\n"
   ]
  },
  {
   "cell_type": "code",
   "execution_count": 58,
   "id": "d3ed1078-305e-4725-87c0-f163c94fe84e",
   "metadata": {},
   "outputs": [
    {
     "data": {
      "image/png": "[encoded data removed]",
      "text/plain": [
       "<Figure size 1000x700 with 1 Axes>"
      ]
     },
     "metadata": {},
     "output_type": "display_data"
    }
   ],
   "source": [
    "bpm_songs = df.sort_values(by='bpm', ascending=False)[['genre', 'valence', 'bpm']].head(10)\n",
    "\n",
    "# Plotting\n",
    "plt.figure(figsize=(10, 7))\n",
    "plt.barh(bpm_songs['genre'], bpm_songs['valence'], color='#2986cc')\n",
    "plt.xlabel('Valence')\n",
    "plt.title('Top 10 Highest Tempo Songs by Genre and Valence')\n",
    "plt.gca().invert_yaxis() \n",
    "\n",
    "# Displaying the plot\n",
    "\n",
    "plt.savefig(\"chards/tempo_by_genre_valence.png\", transparent=True, format=\"png\")\n",
    "plt.show()\n"
   ]
  },
  {
   "cell_type": "code",
   "execution_count": 60,
   "id": "5717b8b9-47f4-4d17-b7ee-532bb52d2781",
   "metadata": {},
   "outputs": [],
   "source": [
    "# Most high-BPM tracks are pop, latin, and rap.\n",
    "# High BPM often aligns with high energy, ideal for workout playlists.\n",
    "# Confirms that these genres contribute to energetic vibes."
   ]
  },
  {
   "cell_type": "code",
   "execution_count": 62,
   "id": "4d6cee0e-5bb4-48d0-a7a2-c15f45e06ec6",
   "metadata": {},
   "outputs": [
    {
     "data": {
      "text/plain": [
       "genre\n",
       "pop         2\n",
       "rap         1\n",
       "boy band    1\n",
       "Name: count, dtype: int64"
      ]
     },
     "execution_count": 62,
     "metadata": {},
     "output_type": "execute_result"
    }
   ],
   "source": [
    "# Count genres for songs with high valence and danceability\n",
    "# Filter for songs with high valence (>80) and danceability (>70)\n",
    "# These thresholds help identify upbeat, danceable tracks ideal for party/workout playlists\n",
    "high_valence_dance = df[(df['valence'] > 80) & (df['danceability'] > 70)]\n",
    "high_valence_dance['genre'].value_counts()"
   ]
  },
  {
   "cell_type": "code",
   "execution_count": 64,
   "id": "56c5ff84-b7f2-4ead-b558-bfefcf839f4d",
   "metadata": {},
   "outputs": [
    {
     "data": {
      "image/png": "[encoded data removed]",
      "text/plain": [
       "<Figure size 1000x700 with 1 Axes>"
      ]
     },
     "metadata": {},
     "output_type": "display_data"
    }
   ],
   "source": [
    "import matplotlib.pyplot as plt\n",
    "\n",
    "# Select top 10 songs with high valence and danceability\n",
    "high_valence_dance = df[(df['valence'] > 80) & (df['danceability'] > 70)].head(10)\n",
    "\n",
    "# Plotting\n",
    "plt.figure(figsize=(10, 7))\n",
    "plt.barh(high_valence_dance['genre'], high_valence_dance['danceability'], color='#990000')\n",
    "plt.xlabel('Danceability')\n",
    "plt.title('Top 10 Song Genres by Danceability and Valence')\n",
    "plt.gca().invert_yaxis()\n",
    "\n",
    "# Displaying the plot\n",
    "plt.savefig(\"chards/top10_danceability_valence.png\", transparent=True, format=\"png\")\n",
    "plt.show()"
   ]
  },
  {
   "cell_type": "code",
   "execution_count": 25,
   "id": "b5a489a1-14f8-4ae9-8f86-b160c5d75af4",
   "metadata": {},
   "outputs": [],
   "source": [
    "# Pop appears most often among songs with both high valence and danceability.\n",
    "# Suggests pop is a strong fit for upbeat, danceable playlists."
   ]
  },
  {
   "cell_type": "code",
   "execution_count": 26,
   "id": "371021c6-4149-4f96-9386-a81adf12d8b0",
   "metadata": {},
   "outputs": [],
   "source": [
    "# Genres like boy band, R&B, and Latin show the highest avg valence & danceability — great for upbeat playlists."
   ]
  },
  {
   "cell_type": "code",
   "execution_count": 128,
   "id": "aa572b64-9251-4866-a07d-17883398f2ef",
   "metadata": {},
   "outputs": [
    {
     "data": {
      "image/png": "[encoded data removed]",
      "text/plain": [
       "<Figure size 1000x600 with 1 Axes>"
      ]
     },
     "metadata": {},
     "output_type": "display_data"
    }
   ],
   "source": [
    "\n",
    "# Select the top 10 most popular tracks with energy and danceability\n",
    "top_tracks = df[['track_name', 'popularity', 'energy', 'danceability']]\\\n",
    "    .sort_values(by='popularity', ascending=False)\\\n",
    "    .head(10)\n",
    "\n",
    "# Create a scatterplot to visualize popularity vs energy and danceability, with valence as color\n",
    "\n",
    "plt.figure(figsize=(10, 6))\n",
    "scatter = sns.scatterplot(\n",
    "    data=df,\n",
    "    x='energy',\n",
    "    y='danceability',\n",
    "    hue='valence',\n",
    "    size='popularity',\n",
    "    sizes=(50, 200),\n",
    "    palette='coolwarm',\n",
    "    alpha=0.8,\n",
    "    edgecolor='gray'\n",
    ")\n",
    "\n",
    "plt.title(\"Track Popularity vs Energy & Danceability (Valence as Color)\")\n",
    "plt.xlabel(\"Energy\")\n",
    "plt.ylabel(\"Danceability\")\n",
    "plt.legend(title='Valence', bbox_to_anchor=(1.05, 1), loc='upper left')\n",
    "plt.tight_layout()\n",
    "plt.savefig(\"chards/track_popularity_energy_danceability_valenceicolored.png\", transparent=True, format=\"png\")\n",
    "\n",
    "plt.show()\n"
   ]
  },
  {
   "cell_type": "markdown",
   "id": "40c1ee64-edc1-4cb2-9aa4-59fd7b729db7",
   "metadata": {},
   "source": [
    "- this scatter shows which popular songs are both energetic and danceable\n",
    "\n",
    "- Targeting party/workout playlist selections\n",
    "\n",
    "- It shows high popularity related with high energy,if you spot high popularity with low energy, that may signal more chill hits"
   ]
  },
  {
   "cell_type": "markdown",
   "id": "366e4f4e-d0fe-4922-8a24-e171e37e8815",
   "metadata": {},
   "source": [
    "# TABLE EXPORT & IMPORT TO MYSQL encoding"
   ]
  },
  {
   "cell_type": "markdown",
   "id": "de908b66-9cd2-4acb-a29c-7a07afd7d8be",
   "metadata": {},
   "source": [
    "## Processing artists"
   ]
  },
  {
   "cell_type": "code",
   "execution_count": 66,
   "id": "e6f14376-05f9-4de3-b218-46a1d242b6c4",
   "metadata": {},
   "outputs": [],
   "source": [
    "artist_map_dict = {artist: index+1 for index, artist in enumerate(df['artist_name'].unique())}\n",
    "df['artist_id'] = df['artist_name'].map(artist_map_dict)"
   ]
  },
  {
   "cell_type": "code",
   "execution_count": 68,
   "id": "cef714b8-6f61-4488-b285-e048644d1196",
   "metadata": {},
   "outputs": [
    {
     "data": {
      "text/html": [
       "<div>\n",
       "<style scoped>\n",
       "    .dataframe tbody tr th:only-of-type {\n",
       "        vertical-align: middle;\n",
       "    }\n",
       "\n",
       "    .dataframe tbody tr th {\n",
       "        vertical-align: top;\n",
       "    }\n",
       "\n",
       "    .dataframe thead th {\n",
       "        text-align: right;\n",
       "    }\n",
       "</style>\n",
       "<table border=\"1\" class=\"dataframe\">\n",
       "  <thead>\n",
       "    <tr style=\"text-align: right;\">\n",
       "      <th></th>\n",
       "      <th>artist_id</th>\n",
       "      <th>artist_name</th>\n",
       "    </tr>\n",
       "  </thead>\n",
       "  <tbody>\n",
       "    <tr>\n",
       "      <th>0</th>\n",
       "      <td>1</td>\n",
       "      <td>Shawn Mendes</td>\n",
       "    </tr>\n",
       "    <tr>\n",
       "      <th>1</th>\n",
       "      <td>2</td>\n",
       "      <td>Anuel AA</td>\n",
       "    </tr>\n",
       "    <tr>\n",
       "      <th>2</th>\n",
       "      <td>3</td>\n",
       "      <td>Ariana Grande</td>\n",
       "    </tr>\n",
       "    <tr>\n",
       "      <th>3</th>\n",
       "      <td>4</td>\n",
       "      <td>Ed Sheeran</td>\n",
       "    </tr>\n",
       "    <tr>\n",
       "      <th>4</th>\n",
       "      <td>5</td>\n",
       "      <td>Post Malone</td>\n",
       "    </tr>\n",
       "    <tr>\n",
       "      <th>5</th>\n",
       "      <td>6</td>\n",
       "      <td>Lil Tecca</td>\n",
       "    </tr>\n",
       "    <tr>\n",
       "      <th>6</th>\n",
       "      <td>7</td>\n",
       "      <td>Sam Smith</td>\n",
       "    </tr>\n",
       "    <tr>\n",
       "      <th>7</th>\n",
       "      <td>8</td>\n",
       "      <td>Lil Nas X</td>\n",
       "    </tr>\n",
       "    <tr>\n",
       "      <th>8</th>\n",
       "      <td>9</td>\n",
       "      <td>Billie Eilish</td>\n",
       "    </tr>\n",
       "    <tr>\n",
       "      <th>9</th>\n",
       "      <td>10</td>\n",
       "      <td>Bad Bunny</td>\n",
       "    </tr>\n",
       "    <tr>\n",
       "      <th>10</th>\n",
       "      <td>11</td>\n",
       "      <td>DJ Snake</td>\n",
       "    </tr>\n",
       "    <tr>\n",
       "      <th>11</th>\n",
       "      <td>12</td>\n",
       "      <td>Lewis Capaldi</td>\n",
       "    </tr>\n",
       "    <tr>\n",
       "      <th>12</th>\n",
       "      <td>13</td>\n",
       "      <td>Sech</td>\n",
       "    </tr>\n",
       "    <tr>\n",
       "      <th>13</th>\n",
       "      <td>14</td>\n",
       "      <td>Drake</td>\n",
       "    </tr>\n",
       "    <tr>\n",
       "      <th>14</th>\n",
       "      <td>15</td>\n",
       "      <td>Chris Brown</td>\n",
       "    </tr>\n",
       "    <tr>\n",
       "      <th>15</th>\n",
       "      <td>16</td>\n",
       "      <td>J Balvin</td>\n",
       "    </tr>\n",
       "    <tr>\n",
       "      <th>16</th>\n",
       "      <td>17</td>\n",
       "      <td>Y2K</td>\n",
       "    </tr>\n",
       "    <tr>\n",
       "      <th>17</th>\n",
       "      <td>18</td>\n",
       "      <td>Lizzo</td>\n",
       "    </tr>\n",
       "    <tr>\n",
       "      <th>18</th>\n",
       "      <td>19</td>\n",
       "      <td>MEDUZA</td>\n",
       "    </tr>\n",
       "    <tr>\n",
       "      <th>19</th>\n",
       "      <td>20</td>\n",
       "      <td>Jhay Cortez</td>\n",
       "    </tr>\n",
       "    <tr>\n",
       "      <th>20</th>\n",
       "      <td>21</td>\n",
       "      <td>Lunay</td>\n",
       "    </tr>\n",
       "    <tr>\n",
       "      <th>21</th>\n",
       "      <td>22</td>\n",
       "      <td>Tones and I</td>\n",
       "    </tr>\n",
       "    <tr>\n",
       "      <th>22</th>\n",
       "      <td>23</td>\n",
       "      <td>Ali Gatie</td>\n",
       "    </tr>\n",
       "    <tr>\n",
       "      <th>23</th>\n",
       "      <td>24</td>\n",
       "      <td>Daddy Yankee</td>\n",
       "    </tr>\n",
       "    <tr>\n",
       "      <th>24</th>\n",
       "      <td>25</td>\n",
       "      <td>The Chainsmokers</td>\n",
       "    </tr>\n",
       "    <tr>\n",
       "      <th>25</th>\n",
       "      <td>26</td>\n",
       "      <td>Maluma</td>\n",
       "    </tr>\n",
       "    <tr>\n",
       "      <th>26</th>\n",
       "      <td>27</td>\n",
       "      <td>Young Thug</td>\n",
       "    </tr>\n",
       "    <tr>\n",
       "      <th>27</th>\n",
       "      <td>28</td>\n",
       "      <td>Katy Perry</td>\n",
       "    </tr>\n",
       "    <tr>\n",
       "      <th>28</th>\n",
       "      <td>29</td>\n",
       "      <td>Martin Garrix</td>\n",
       "    </tr>\n",
       "    <tr>\n",
       "      <th>29</th>\n",
       "      <td>30</td>\n",
       "      <td>Jonas Brothers</td>\n",
       "    </tr>\n",
       "    <tr>\n",
       "      <th>30</th>\n",
       "      <td>31</td>\n",
       "      <td>Lauv</td>\n",
       "    </tr>\n",
       "    <tr>\n",
       "      <th>31</th>\n",
       "      <td>32</td>\n",
       "      <td>Kygo</td>\n",
       "    </tr>\n",
       "    <tr>\n",
       "      <th>32</th>\n",
       "      <td>33</td>\n",
       "      <td>Taylor Swift</td>\n",
       "    </tr>\n",
       "    <tr>\n",
       "      <th>33</th>\n",
       "      <td>34</td>\n",
       "      <td>Lady Gaga</td>\n",
       "    </tr>\n",
       "    <tr>\n",
       "      <th>34</th>\n",
       "      <td>35</td>\n",
       "      <td>Khalid</td>\n",
       "    </tr>\n",
       "    <tr>\n",
       "      <th>35</th>\n",
       "      <td>36</td>\n",
       "      <td>ROSAL A</td>\n",
       "    </tr>\n",
       "    <tr>\n",
       "      <th>36</th>\n",
       "      <td>37</td>\n",
       "      <td>Marshmello</td>\n",
       "    </tr>\n",
       "    <tr>\n",
       "      <th>37</th>\n",
       "      <td>38</td>\n",
       "      <td>Nicky Jam</td>\n",
       "    </tr>\n",
       "  </tbody>\n",
       "</table>\n",
       "</div>"
      ],
      "text/plain": [
       "    artist_id       artist_name\n",
       "0           1      Shawn Mendes\n",
       "1           2          Anuel AA\n",
       "2           3     Ariana Grande\n",
       "3           4        Ed Sheeran\n",
       "4           5       Post Malone\n",
       "5           6         Lil Tecca\n",
       "6           7         Sam Smith\n",
       "7           8         Lil Nas X\n",
       "8           9     Billie Eilish\n",
       "9          10         Bad Bunny\n",
       "10         11          DJ Snake\n",
       "11         12     Lewis Capaldi\n",
       "12         13              Sech\n",
       "13         14             Drake\n",
       "14         15       Chris Brown\n",
       "15         16          J Balvin\n",
       "16         17               Y2K\n",
       "17         18             Lizzo\n",
       "18         19            MEDUZA\n",
       "19         20       Jhay Cortez\n",
       "20         21             Lunay\n",
       "21         22       Tones and I\n",
       "22         23         Ali Gatie\n",
       "23         24      Daddy Yankee\n",
       "24         25  The Chainsmokers\n",
       "25         26            Maluma\n",
       "26         27        Young Thug\n",
       "27         28        Katy Perry\n",
       "28         29     Martin Garrix\n",
       "29         30    Jonas Brothers\n",
       "30         31              Lauv\n",
       "31         32              Kygo\n",
       "32         33      Taylor Swift\n",
       "33         34         Lady Gaga\n",
       "34         35            Khalid\n",
       "35         36          ROSAL A\n",
       "36         37        Marshmello\n",
       "37         38         Nicky Jam"
      ]
     },
     "execution_count": 68,
     "metadata": {},
     "output_type": "execute_result"
    }
   ],
   "source": [
    "artists_df = pd.DataFrame({\"artist_id\": [value for value in artist_map_dict.values()],\n",
    "              \"artist_name\": [key for key in artist_map_dict.keys()]})\n",
    "artists_df"
   ]
  },
  {
   "cell_type": "markdown",
   "id": "d99996ea-67fb-48d1-bdc4-0998ab02a082",
   "metadata": {},
   "source": [
    "## Processing genres"
   ]
  },
  {
   "cell_type": "code",
   "execution_count": 71,
   "id": "3a84aef4-fc3d-42e6-93af-1f67f0d1bf48",
   "metadata": {},
   "outputs": [],
   "source": [
    "genre_map_dict = {genre: index+1 for index, genre in enumerate(df['genre'].unique())}\n",
    "df['genre_id'] = df['genre'].map(genre_map_dict)"
   ]
  },
  {
   "cell_type": "code",
   "execution_count": 73,
   "id": "ae26f7d1-d807-47d3-8a6c-ea754788623a",
   "metadata": {},
   "outputs": [
    {
     "data": {
      "text/html": [
       "<div>\n",
       "<style scoped>\n",
       "    .dataframe tbody tr th:only-of-type {\n",
       "        vertical-align: middle;\n",
       "    }\n",
       "\n",
       "    .dataframe tbody tr th {\n",
       "        vertical-align: top;\n",
       "    }\n",
       "\n",
       "    .dataframe thead th {\n",
       "        text-align: right;\n",
       "    }\n",
       "</style>\n",
       "<table border=\"1\" class=\"dataframe\">\n",
       "  <thead>\n",
       "    <tr style=\"text-align: right;\">\n",
       "      <th></th>\n",
       "      <th>genre_id</th>\n",
       "      <th>genre_name</th>\n",
       "    </tr>\n",
       "  </thead>\n",
       "  <tbody>\n",
       "    <tr>\n",
       "      <th>0</th>\n",
       "      <td>1</td>\n",
       "      <td>pop</td>\n",
       "    </tr>\n",
       "    <tr>\n",
       "      <th>1</th>\n",
       "      <td>2</td>\n",
       "      <td>reggaeton</td>\n",
       "    </tr>\n",
       "    <tr>\n",
       "      <th>2</th>\n",
       "      <td>3</td>\n",
       "      <td>rap</td>\n",
       "    </tr>\n",
       "    <tr>\n",
       "      <th>3</th>\n",
       "      <td>4</td>\n",
       "      <td>latin</td>\n",
       "    </tr>\n",
       "    <tr>\n",
       "      <th>4</th>\n",
       "      <td>5</td>\n",
       "      <td>hip hop</td>\n",
       "    </tr>\n",
       "    <tr>\n",
       "      <th>5</th>\n",
       "      <td>6</td>\n",
       "      <td>escape room</td>\n",
       "    </tr>\n",
       "    <tr>\n",
       "      <th>6</th>\n",
       "      <td>7</td>\n",
       "      <td>edm</td>\n",
       "    </tr>\n",
       "    <tr>\n",
       "      <th>7</th>\n",
       "      <td>8</td>\n",
       "      <td>boy band</td>\n",
       "    </tr>\n",
       "    <tr>\n",
       "      <th>8</th>\n",
       "      <td>9</td>\n",
       "      <td>r&amp;b</td>\n",
       "    </tr>\n",
       "    <tr>\n",
       "      <th>9</th>\n",
       "      <td>10</td>\n",
       "      <td>brostep</td>\n",
       "    </tr>\n",
       "  </tbody>\n",
       "</table>\n",
       "</div>"
      ],
      "text/plain": [
       "   genre_id   genre_name\n",
       "0         1          pop\n",
       "1         2    reggaeton\n",
       "2         3          rap\n",
       "3         4        latin\n",
       "4         5      hip hop\n",
       "5         6  escape room\n",
       "6         7          edm\n",
       "7         8     boy band\n",
       "8         9          r&b\n",
       "9        10      brostep"
      ]
     },
     "execution_count": 73,
     "metadata": {},
     "output_type": "execute_result"
    }
   ],
   "source": [
    "genre_df = pd.DataFrame({\"genre_id\": [value for value in genre_map_dict.values()],\n",
    "              \"genre_name\": [key for key in genre_map_dict.keys()]})\n",
    "genre_df"
   ]
  },
  {
   "cell_type": "code",
   "execution_count": 75,
   "id": "a526f4b5-eb5b-49a9-8869-2527bf3ac87c",
   "metadata": {},
   "outputs": [
    {
     "name": "stdout",
     "output_type": "stream",
     "text": [
      "Cleaned artist names saved to artists.csv with adjustments.\n"
     ]
    }
   ],
   "source": [
    "# Save unique, cleaned artist names\n",
    "# artists_df.drop_duplicates()...\n",
    "df[['artist_name']]\\\n",
    "  .drop_duplicates()\\\n",
    "  .sort_values(by='artist_name')\\\n",
    "  .to_csv(\"artists.csv\", index=False, encoding='utf-8-sig', sep=\";\")\n",
    "print(\"Cleaned artist names saved to artists.csv with adjustments.\")"
   ]
  },
  {
   "cell_type": "code",
   "execution_count": 77,
   "id": "88b57f47-3ce9-49bd-855b-b880b851553f",
   "metadata": {},
   "outputs": [
    {
     "name": "stdout",
     "output_type": "stream",
     "text": [
      "Files saved: artists.csv, genres.csv, tracks.csv\n"
     ]
    }
   ],
   "source": [
    "\n",
    "# Save unique genres\n",
    "# genre_df.drop_duplicates()...\n",
    "df[['genre']].drop_duplicates().sort_values(by='genre').to_csv(\"genres.csv\", index=False, encoding='utf-8', sep=\";\")\n",
    "\n",
    "# Save full track data (with text artist and genre names for mapping)\n",
    "track_columns = [\n",
    "    'track_name', 'bpm', 'energy', 'danceability', 'loudness_db',\n",
    "    'liveness', 'valence', 'length', 'acousticness', 'speechiness',\n",
    "    'popularity', 'artist_id', 'genre_id'\n",
    "]\n",
    "\n",
    "df[track_columns].to_csv(\"tracks.csv\", index=False, encoding='utf-8', sep=\";\")\n",
    "\n",
    "print(\"Files saved: artists.csv, genres.csv, tracks.csv\")\n"
   ]
  },
  {
   "cell_type": "code",
   "execution_count": 79,
   "id": "9eb00e36-5c8d-49ec-a8d8-e1710c2d7eb5",
   "metadata": {},
   "outputs": [
    {
     "name": "stdout",
     "output_type": "stream",
     "text": [
      "Requirement already satisfied: mysql-connector-python in /opt/anaconda3/lib/python3.12/site-packages (9.3.0)\n"
     ]
    }
   ],
   "source": [
    "!pip install mysql-connector-python\n",
    "\n",
    "import mysql.connector\n"
   ]
  },
  {
   "cell_type": "code",
   "execution_count": 80,
   "id": "737014aa-e362-4489-a843-df089b0c5c1c",
   "metadata": {},
   "outputs": [
    {
     "data": {
      "text/plain": [
       "dtype('float64')"
      ]
     },
     "execution_count": 80,
     "metadata": {},
     "output_type": "execute_result"
    }
   ],
   "source": [
    "df[\"loudness_db\"].dtype"
   ]
  },
  {
   "cell_type": "markdown",
   "id": "fbe6e17c-3888-46f9-8715-2c0bd29f7271",
   "metadata": {},
   "source": [
    "#### "
   ]
  },
  {
   "cell_type": "code",
   "execution_count": 92,
   "id": "2b41a7f6-202e-4a24-b1d4-933b50bbf21c",
   "metadata": {},
   "outputs": [
    {
     "data": {
      "image/png": "[encoded data removed]",
      "text/plain": [
       "<Figure size 640x480 with 1 Axes>"
      ]
     },
     "metadata": {},
     "output_type": "display_data"
    }
   ],
   "source": []
  },
  {
   "cell_type": "code",
   "execution_count": null,
   "id": "70cb2a19-c9f3-4782-9596-3ab89acda8fb",
   "metadata": {},
   "outputs": [],
   "source": []
  }
 ],
 "metadata": {
  "kernelspec": {
   "display_name": "Python [conda env:base] *",
   "language": "python",
   "name": "conda-base-py"
  },
  "language_info": {
   "codemirror_mode": {
    "name": "ipython",
    "version": 3
   },
   "file_extension": ".py",
   "mimetype": "text/x-python",
   "name": "python",
   "nbconvert_exporter": "python",
   "pygments_lexer": "ipython3",
   "version": "3.12.7"
  }
 },
 "nbformat": 4,
 "nbformat_minor": 5
}
